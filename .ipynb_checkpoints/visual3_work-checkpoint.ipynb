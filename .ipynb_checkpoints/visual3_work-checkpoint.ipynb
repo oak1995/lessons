{
 "cells": [
  {
   "cell_type": "code",
   "execution_count": null,
   "id": "80bba3a3-ceb6-40fc-b366-47c6ed1720e8",
   "metadata": {
    "scrolled": true
   },
   "outputs": [],
   "source": [
    "import pandas as pd\n",
    "import matplotlib.pyplot as plt\n",
    "%matplotlib inline\n",
    "\n",
    "df = pd.read_csv('Restaurant.csv')\n",
    "tips = df.pivot_table(values=['total_bill', 'tip'], index='day', aggfunc='mean')\n",
    "display(tips.head())"
   ]
  },
  {
   "cell_type": "code",
   "execution_count": null,
   "id": "19188071-1802-47a5-9ea9-1ae83f9ac93a",
   "metadata": {},
   "outputs": [],
   "source": [
    "fig = plt.figure()\n",
    "axes = fig.add_axes([0, 0, 1, 1])\n",
    "\n",
    "axes.bar(x=tips.index, height=tips['total_bill'], width=0.4, align='edge')\n",
    "axes.bar(x=tips.index, height=tips['tip'], width=-0.4, align='edge')\n",
    "\n",
    "axes.set_title('Средняя сумма счёта Vs Средняя сумма чаевых по дням недели')\n",
    "axes.set_xlabel('Дни недели')\n",
    "axes.set_ylabel('Сумма')"
   ]
  },
  {
   "cell_type": "code",
   "execution_count": null,
   "id": "7f1440e8-6792-4113-b9f9-33a7ec603d1f",
   "metadata": {},
   "outputs": [],
   "source": [
    "fig = plt.figure()\n",
    "axes = fig.add_axes([0, 0, 1, 1])\n",
    "\n",
    "axes.bar(x=tips.index, height=tips['total_bill'], width=0.4, align='edge', label='Средняя сумма чека')\n",
    "axes.bar(x=tips.index, height=tips['tip'], width=-0.4, align='edge', label='Средняя сумма чаевых')\n",
    "\n",
    "axes.set_title('Средняя сумма счета Vs Средняя сумма чаевых по дням недели')\n",
    "axes.set_xlabel('Дни недели')\n",
    "axes.set_ylabel('Сумма')\n",
    "\n",
    "axes.legend(loc=1)"
   ]
  },
  {
   "cell_type": "code",
   "execution_count": null,
   "id": "5b2a32d2-cc67-4a94-838a-1010aa1c9bf4",
   "metadata": {},
   "outputs": [],
   "source": [
    "fig = plt.figure()\n",
    "axes = fig.add_axes([0, 0, 1, 1])\n",
    "axes.set_ylim(0, 30)\n",
    "\n",
    "axes.bar(x=tips.index, height=tips['total_bill'], width=0.4, align='edge', label='Средняя сумма чека')\n",
    "axes.bar(x=tips.index, height=tips['tip'], width=-0.4, align='edge', label='Средняя сумма чаевых')\n",
    "\n",
    "axes.set_title('Средняя сумма счета Vs Средняя сумма чаевых по дням недели')\n",
    "axes.set_xlabel('Дни недели')\n",
    "axes.set_ylabel('Сумма')\n",
    "\n",
    "axes.legend(loc=1)"
   ]
  },
  {
   "cell_type": "markdown",
   "id": "5c675d40-b5c7-495f-8bec-ffdf8fd91e1c",
   "metadata": {},
   "source": [
    "#### Бірнеше графиктер көрсету"
   ]
  },
  {
   "cell_type": "code",
   "execution_count": null,
   "id": "8f3fbfd5-6d67-4d41-871b-57f34ed447c2",
   "metadata": {},
   "outputs": [],
   "source": [
    "fig, axes = plt.subplots(1, 3, figsize=(12, 4))"
   ]
  },
  {
   "cell_type": "code",
   "execution_count": null,
   "id": "32146437-bae0-42de-b1d3-310a84b61d51",
   "metadata": {},
   "outputs": [],
   "source": [
    "fig, axes = plt.subplots(1, 3, figsize=(12, 4))\n",
    "\n",
    "axes[0].hist(df['total_bill'])\n",
    "axes[0].set_title('Общая сумма счета')\n",
    "\n",
    "axes[1].hist(df['tip'])\n",
    "axes[1].set_title('Сумма чаевых')\n",
    "\n",
    "axes[2].scatter(x=df['total_bill'], y=df['tip'], marker='o')\n",
    "axes[2].set_title('Общая сумма счета Vs Средняя сумма чаевых')"
   ]
  }
 ],
 "metadata": {
  "kernelspec": {
   "display_name": "Python 3 (ipykernel)",
   "language": "python",
   "name": "python3"
  },
  "language_info": {
   "codemirror_mode": {
    "name": "ipython",
    "version": 3
   },
   "file_extension": ".py",
   "mimetype": "text/x-python",
   "name": "python",
   "nbconvert_exporter": "python",
   "pygments_lexer": "ipython3",
   "version": "3.11.1"
  }
 },
 "nbformat": 4,
 "nbformat_minor": 5
}
