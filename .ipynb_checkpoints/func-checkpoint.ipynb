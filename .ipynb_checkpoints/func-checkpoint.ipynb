{
 "cells": [
  {
   "cell_type": "code",
   "execution_count": 30,
   "id": "b616b9a3-1adb-4b8e-8a37-7d75e531c5a5",
   "metadata": {},
   "outputs": [
    {
     "name": "stdout",
     "output_type": "stream",
     "text": [
      "9\n"
     ]
    }
   ],
   "source": [
    "def get_median(my_list):\n",
    "    median = 0\n",
    "    my_list.sort()\n",
    "    if len(my_list)%2 == 0:\n",
    "        median = (my_list[len(my_list)//2]+my_list[len(my_list)//2 - 1])/2\n",
    "    else:\n",
    "        median = my_list[len(my_list)//2 ]\n",
    "    return median\n",
    "print(get_median([10, 6, 2, 9, 21]))"
   ]
  },
  {
   "cell_type": "code",
   "execution_count": null,
   "id": "d7fe08b2-ca55-41ae-a506-b52949d6aeed",
   "metadata": {},
   "outputs": [],
   "source": []
  },
  {
   "cell_type": "code",
   "execution_count": null,
   "id": "bccf5643-ca0f-4988-bae8-d8714ceae361",
   "metadata": {},
   "outputs": [],
   "source": []
  }
 ],
 "metadata": {
  "kernelspec": {
   "display_name": "Python 3 (ipykernel)",
   "language": "python",
   "name": "python3"
  },
  "language_info": {
   "codemirror_mode": {
    "name": "ipython",
    "version": 3
   },
   "file_extension": ".py",
   "mimetype": "text/x-python",
   "name": "python",
   "nbconvert_exporter": "python",
   "pygments_lexer": "ipython3",
   "version": "3.11.1"
  }
 },
 "nbformat": 4,
 "nbformat_minor": 5
}
