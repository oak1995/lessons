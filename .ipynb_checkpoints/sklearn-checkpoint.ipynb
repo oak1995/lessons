{
 "cells": [
  {
   "cell_type": "code",
   "execution_count": null,
   "id": "57bb09ce-dc5e-480a-9557-1384054b09d5",
   "metadata": {},
   "outputs": [],
   "source": [
    "Sklearn кітапханасымен танысу және KNN оқыту\n",
    "from sklearn.neighbors import KNeighborsClassifier\n",
    "from sklearn.model_selection import train_test_split\n",
    "from sklearn.metrics import accuracy_score\n",
    "# Деректерді train және test үлгілеріне бөлу:\n",
    "X_train, X_valid, y_train, y_valid = train_test_split(X, y, test_size=0.25)\n",
    "# Жіктеуішті құру:\n",
    "knn = KNeighborsClassifier(n_neighbors=5)\n",
    "# Модельді оқыту:\n",
    "knn.fit(X_train, y_train)\n",
    "# Нәтижелерді болжау:\n",
    "preds_valid = knn.predict(X_valid)\n",
    "# Сапаны бағалау:\n",
    "print(f'Accuracy={accuracy_score(y_valid, preds_valid)}')\n"
   ]
  }
 ],
 "metadata": {
  "kernelspec": {
   "display_name": "Python 3 (ipykernel)",
   "language": "python",
   "name": "python3"
  },
  "language_info": {
   "codemirror_mode": {
    "name": "ipython",
    "version": 3
   },
   "file_extension": ".py",
   "mimetype": "text/x-python",
   "name": "python",
   "nbconvert_exporter": "python",
   "pygments_lexer": "ipython3",
   "version": "3.11.1"
  }
 },
 "nbformat": 4,
 "nbformat_minor": 5
}
