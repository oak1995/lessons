{
 "cells": [
  {
   "cell_type": "code",
   "execution_count": 49,
   "id": "137a991b-7ba6-4511-a7cd-d681d999ef1b",
   "metadata": {},
   "outputs": [
    {
     "data": {
      "text/plain": [
       "{'faculty': 1,\n",
       " 'faculty B': 190,\n",
       " 'faculty C': 319,\n",
       " 'faculty A': 89,\n",
       " 'faculty D': 262,\n",
       " 'faculty E': 140}"
      ]
     },
     "execution_count": 49,
     "metadata": {},
     "output_type": "execute_result"
    }
   ],
   "source": []
  }
 ],
 "metadata": {
  "kernelspec": {
   "display_name": "Python 3 (ipykernel)",
   "language": "python",
   "name": "python3"
  },
  "language_info": {
   "codemirror_mode": {
    "name": "ipython",
    "version": 3
   },
   "file_extension": ".py",
   "mimetype": "text/x-python",
   "name": "python",
   "nbconvert_exporter": "python",
   "pygments_lexer": "ipython3",
   "version": "3.11.1"
  }
 },
 "nbformat": 4,
 "nbformat_minor": 5
}
