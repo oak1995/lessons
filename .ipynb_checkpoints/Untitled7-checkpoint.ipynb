{
 "cells": [
  {
   "cell_type": "code",
   "execution_count": null,
   "id": "43be9ef0-518e-4b2e-8710-a943961213fb",
   "metadata": {},
   "outputs": [],
   "source": [
    "import numpy as np\n",
    "import datetime\n",
    "\n",
    "# Используя Python\n",
    "start = datetime.datetime.now()\n",
    "a = [1 for i in range(100000000)]\n",
    "a = [elem + 10 for elem in a]\n",
    "end = datetime.datetime.now()\n",
    "print(\"Python:\", (end-start).seconds, \"секунд\")\n",
    "\n",
    "# Используя NumPy\n",
    "start = datetime.datetime.now()\n",
    "a = np.arange(100000000)\n",
    "a = a + 10\n",
    "end = datetime.datetime.now()\n",
    "print(\"NumPy:\", (end-start).seconds, \"секунд\")\n"
   ]
  },
  {
   "cell_type": "code",
   "execution_count": null,
   "id": "3e331c8b-f84a-41b8-bf10-cf4ab98b97d3",
   "metadata": {},
   "outputs": [],
   "source": []
  }
 ],
 "metadata": {
  "kernelspec": {
   "display_name": "Python 3 (ipykernel)",
   "language": "python",
   "name": "python3"
  },
  "language_info": {
   "codemirror_mode": {
    "name": "ipython",
    "version": 3
   },
   "file_extension": ".py",
   "mimetype": "text/x-python",
   "name": "python",
   "nbconvert_exporter": "python",
   "pygments_lexer": "ipython3",
   "version": "3.11.1"
  }
 },
 "nbformat": 4,
 "nbformat_minor": 5
}
