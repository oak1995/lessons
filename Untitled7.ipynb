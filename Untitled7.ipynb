{
 "cells": [
  {
   "cell_type": "code",
   "execution_count": 14,
   "id": "43be9ef0-518e-4b2e-8710-a943961213fb",
   "metadata": {},
   "outputs": [
    {
     "name": "stdout",
     "output_type": "stream",
     "text": [
      "True\n"
     ]
    }
   ],
   "source": [
    "def no_numpy_mult(first, second):\n",
    "    size = len(first)\n",
    "    result = [[0 for _ in range(size)] for _ in range(size)]\n",
    "    \n",
    "    for i in range(size):\n",
    "        for j in range(size):\n",
    "            for k in range(size):\n",
    "                result[i][j] += first[i][k] * second[k][j]\n",
    "    \n",
    "    return result\n",
    "\n",
    "def numpy_mult(first, second):\n",
    "    return np.dot(first, second) \n",
    "\n",
    "first = [[1., 2., 3.], [4., 1., 6.], [0., 2., -5.]]\n",
    "second = [[-3., 0., 1.], [3.5, 0., -1.], [-1., -5., -30.]]\n",
    "result = [[1.0, -15.0, -91.0], [-14.5, -30.0, -177.0], [12.0, 25.0, 148.0]]\n",
    "\n",
    "test_no_numpy_result = no_numpy_mult(first, second)\n",
    "test_numpy_result = numpy_mult(np.array(first), np.array(second))\n",
    "\n",
    "test_1_no_numpy_pass = type(test_no_numpy_result) == list and \\\n",
    "    np.allclose(np.array(test_no_numpy_result), np.array(result))\n",
    "test_1_numpy_pass = np.allclose(test_numpy_result, np.array(result))\n",
    "\n",
    "first = [[-3., 2., 6., 5.], [1., 1.5, 4., -3.], [2., 2.5, -5., 0.5], [-2., -5., 6., 11.]]\n",
    "second = [[-3., 0., 1., -3.], [3.5, 0., -1., 6.], [-1., -5., -30., 2.5], [0., -1., 2., 3.4]]\n",
    "result = [[10.0, -35.0, -175.0, 53.0], [-1.75, -17.0, -126.5, 5.8],\n",
    "          [7.75, 24.5, 150.5, -1.8], [-17.5, -41.0, -155.0, 28.4]]\n",
    "\n",
    "test_result = no_numpy_mult(first, second)\n",
    "test_2_no_numpy_pass = type(test_result) == list and np.allclose(np.array(test_result), np.array(result))\n",
    "test_2_numpy_pass = np.allclose(numpy_mult(np.array(first), np.array(second)), np.array(result))\n",
    "\n",
    "print(test_1_no_numpy_pass and test_1_numpy_pass and test_2_no_numpy_pass and test_2_numpy_pass)\n"
   ]
  },
  {
   "cell_type": "code",
   "execution_count": null,
   "id": "3e331c8b-f84a-41b8-bf10-cf4ab98b97d3",
   "metadata": {},
   "outputs": [],
   "source": []
  },
  {
   "cell_type": "code",
   "execution_count": null,
   "id": "e1287766-2e5e-4314-9f76-acacd8803ab6",
   "metadata": {},
   "outputs": [],
   "source": []
  }
 ],
 "metadata": {
  "kernelspec": {
   "display_name": "Python 3 (ipykernel)",
   "language": "python",
   "name": "python3"
  },
  "language_info": {
   "codemirror_mode": {
    "name": "ipython",
    "version": 3
   },
   "file_extension": ".py",
   "mimetype": "text/x-python",
   "name": "python",
   "nbconvert_exporter": "python",
   "pygments_lexer": "ipython3",
   "version": "3.11.1"
  }
 },
 "nbformat": 4,
 "nbformat_minor": 5
}
