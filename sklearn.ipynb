{
 "cells": [
  {
   "cell_type": "code",
   "execution_count": 3,
   "id": "57bb09ce-dc5e-480a-9557-1384054b09d5",
   "metadata": {},
   "outputs": [
    {
     "name": "stdout",
     "output_type": "stream",
     "text": [
      "Accuracy=0.0\n"
     ]
    },
    {
     "name": "stderr",
     "output_type": "stream",
     "text": [
      "C:\\Users\\orazb\\AppData\\Local\\Programs\\Python\\Python311\\Lib\\site-packages\\joblib\\externals\\loky\\backend\\context.py:136: UserWarning: Could not find the number of physical cores for the following reason:\n",
      "found 0 physical cores < 1\n",
      "Returning the number of logical cores instead. You can silence this warning by setting LOKY_MAX_CPU_COUNT to the number of cores you want to use.\n",
      "  warnings.warn(\n",
      "  File \"C:\\Users\\orazb\\AppData\\Local\\Programs\\Python\\Python311\\Lib\\site-packages\\joblib\\externals\\loky\\backend\\context.py\", line 282, in _count_physical_cores\n",
      "    raise ValueError(f\"found {cpu_count_physical} physical cores < 1\")\n"
     ]
    }
   ],
   "source": [
    "from sklearn.neighbors import KNeighborsClassifier\n",
    "from sklearn.model_selection import train_test_split\n",
    "from sklearn.metrics import accuracy_score\n",
    "import numpy as np\n",
    "\n",
    "# Деректер жиынтығын құру\n",
    "X = np.array([\n",
    "    [5.1, 3.5, 1.4, 0.2],\n",
    "    [4.9, 3.0, 1.4, 0.2],\n",
    "    [6.7, 3.1, 4.7, 1.5],\n",
    "    [5.6, 3.0, 4.5, 1.5],\n",
    "    [6.3, 3.3, 6.0, 2.5],\n",
    "    [5.8, 2.7, 5.1, 1.9]\n",
    "])\n",
    "\n",
    "y = np.array([0, 0, 1, 1, 2, 2])  # Белгілер\n",
    "\n",
    "X_train, X_valid, y_train, y_valid = train_test_split(X, y, test_size=0.25, random_state=42)\n",
    "\n",
    "# Жіктеуішті құру\n",
    "knn = KNeighborsClassifier(n_neighbors=3)\n",
    "\n",
    "# Модельді оқыту\n",
    "knn.fit(X_train, y_train)\n",
    "\n",
    "# Нәтижелерді болжау\n",
    "preds_valid = knn.predict(X_valid)\n",
    "\n",
    "# Сапаны бағалау\n",
    "print(f'Accuracy={accuracy_score(y_valid, preds_valid)}')\n"
   ]
  },
  {
   "cell_type": "code",
   "execution_count": null,
   "id": "65f9b15b-a051-4286-9d9f-f0140c79a249",
   "metadata": {},
   "outputs": [],
   "source": []
  }
 ],
 "metadata": {
  "kernelspec": {
   "display_name": "Python 3 (ipykernel)",
   "language": "python",
   "name": "python3"
  },
  "language_info": {
   "codemirror_mode": {
    "name": "ipython",
    "version": 3
   },
   "file_extension": ".py",
   "mimetype": "text/x-python",
   "name": "python",
   "nbconvert_exporter": "python",
   "pygments_lexer": "ipython3",
   "version": "3.11.1"
  }
 },
 "nbformat": 4,
 "nbformat_minor": 5
}
