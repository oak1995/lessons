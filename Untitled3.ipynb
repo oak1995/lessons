{
 "cells": [
  {
   "cell_type": "code",
   "execution_count": 15,
   "id": "1fa5be60-d141-4c4c-93fb-111fed193eaf",
   "metadata": {},
   "outputs": [
    {
     "name": "stdin",
     "output_type": "stream",
     "text": [
      " 6\n",
      " 1 3\n",
      " 1 5\n",
      " 1 12\n",
      " 3 5\n",
      " 3 12\n",
      " 5 12\n"
     ]
    },
    {
     "name": "stdout",
     "output_type": "stream",
     "text": [
      "12\n"
     ]
    }
   ],
   "source": [
    "n = int(input())\n",
    "\n",
    "\n",
    "z = []\n",
    "for _ in range(n):\n",
    "    t, k = map(int, input().split())\n",
    "    z.append((t, k))\n",
    "    \n",
    "for i in range(len(z)-1):\n",
    "    if z[i][0]==z[i+1][0] or z[i][0]==z[i+1][1] or z[i][1]==z[i+1][0] or z[i][1]==z[i+1][1]:\n",
    "        continue\n",
    "    else:\n",
    "        if z[i][0]>z[i][1]:\n",
    "            print(z[i][0])\n",
    "            break\n",
    "        else:\n",
    "            print(z[i][1])\n",
    "            break\n",
    "    \n"
   ]
  },
  {
   "cell_type": "code",
   "execution_count": null,
   "id": "73545949-ab85-435a-8744-213fc39440e3",
   "metadata": {},
   "outputs": [],
   "source": []
  }
 ],
 "metadata": {
  "kernelspec": {
   "display_name": "Python 3 (ipykernel)",
   "language": "python",
   "name": "python3"
  },
  "language_info": {
   "codemirror_mode": {
    "name": "ipython",
    "version": 3
   },
   "file_extension": ".py",
   "mimetype": "text/x-python",
   "name": "python",
   "nbconvert_exporter": "python",
   "pygments_lexer": "ipython3",
   "version": "3.11.1"
  }
 },
 "nbformat": 4,
 "nbformat_minor": 5
}
