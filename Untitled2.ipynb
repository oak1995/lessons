{
 "cells": [
  {
   "cell_type": "code",
   "execution_count": 64,
   "id": "6acb9892-11bf-4420-9f8f-2cb9a2dfad36",
   "metadata": {},
   "outputs": [
    {
     "name": "stdin",
     "output_type": "stream",
     "text": [
      " 1\n",
      " 1\n"
     ]
    },
    {
     "name": "stdout",
     "output_type": "stream",
     "text": [
      "1\n"
     ]
    }
   ],
   "source": [
    "n = int(input())\n",
    "\n",
    "z = []\n",
    "for _ in range(n):\n",
    "    t, k = map(int, input().split())\n",
    "    z.append((t, k))\n",
    "    \n",
    "for i in range(len(z)-1):\n",
    "    if z[i][0]==z[i+1][0] or z[i][0]==z[i+1][1] or z[i][1]==z[i+1][0] or z[i][1]==z[i+1][1]:\n",
    "        continue\n",
    "    else:\n",
    "        if z[i][0]>=z[i][1]:\n",
    "            print(z[i][0])\n",
    "            break\n",
    "        else:\n",
    "            print(z[i][1])\n",
    "            break"
   ]
  },
  {
   "cell_type": "code",
   "execution_count": null,
   "id": "c5528c7c-1fc7-42de-862e-a7c7c75a7490",
   "metadata": {},
   "outputs": [],
   "source": []
  }
 ],
 "metadata": {
  "kernelspec": {
   "display_name": "Python 3 (ipykernel)",
   "language": "python",
   "name": "python3"
  },
  "language_info": {
   "codemirror_mode": {
    "name": "ipython",
    "version": 3
   },
   "file_extension": ".py",
   "mimetype": "text/x-python",
   "name": "python",
   "nbconvert_exporter": "python",
   "pygments_lexer": "ipython3",
   "version": "3.11.1"
  }
 },
 "nbformat": 4,
 "nbformat_minor": 5
}
