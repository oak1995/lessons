{
 "cells": [
  {
   "cell_type": "code",
   "execution_count": 19,
   "id": "ec59378c-5d0a-49d6-91f8-63008df34b84",
   "metadata": {},
   "outputs": [
    {
     "name": "stdout",
     "output_type": "stream",
     "text": [
      "174\n",
      "['none', 'none', 'none', 'completed', 'none', 'none', 'completed', 'none', 'completed', 'none', 'none', 'completed', 'none', 'none', 'none', 'none', 'none', 'completed', 'none', 'none', 'completed', 'none', 'completed', 'none', 'completed', 'none', 'none', 'none', 'completed', 'completed', 'none', 'none', 'none', 'none', 'none', 'completed', 'none', 'none', 'none', 'none', 'completed', 'none', 'completed', 'none', 'none', 'none', 'none', 'completed', 'completed', 'completed', 'none', 'completed', 'completed', 'completed', 'completed', 'none', 'none', 'none', 'completed', 'none', 'none', 'none', 'completed', 'none', 'none', 'completed', 'completed', 'completed', 'none', 'completed', 'none', 'completed', 'none', 'none', 'none', 'none', 'completed', 'completed', 'none', 'none', 'none', 'none', 'none', 'completed', 'none', 'none', 'completed', 'completed', 'none', 'completed', 'completed', 'completed', 'none', 'completed', 'none', 'completed', 'completed', 'none', 'completed', 'none', 'none', 'none', 'completed', 'none', 'completed', 'completed', 'none', 'completed', 'completed', 'completed', 'none', 'completed', 'none', 'none', 'none', 'none', 'none', 'none', 'none', 'completed', 'none', 'none', 'none', 'none', 'completed', 'none', 'none', 'none', 'none', 'none', 'completed', 'none', 'none', 'completed', 'completed', 'none', 'none', 'none', 'none', 'completed', 'none', 'none', 'none', 'none', 'completed', 'completed', 'none', 'completed', 'none', 'none', 'completed', 'completed', 'none', 'completed', 'completed', 'completed', 'none', 'completed', 'none', 'none', 'none', 'completed', 'none', 'none', 'completed', 'none', 'none', 'none', 'none', 'none', 'completed', 'none', 'none', 'completed', 'none', 'completed', 'none', 'none', 'completed', 'none', 'none', 'none', 'none', 'none', 'none', 'none', 'completed', 'none', 'completed', 'completed', 'none', 'none', 'none', 'none', 'none', 'completed', 'none', 'none', 'completed', 'none', 'completed', 'none', 'none', 'none', 'none', 'completed', 'completed', 'completed', 'none', 'completed', 'none', 'completed', 'none', 'none', 'completed', 'none', 'none', 'none', 'none', 'none', 'none', 'none', 'none', 'completed', 'none', 'none', 'none', 'completed', 'none', 'none', 'completed', 'none', 'none', 'none', 'none', 'none', 'completed', 'none', 'none', 'completed', 'completed', 'none', 'completed', 'none', 'none', 'completed', 'none', 'none', 'none', 'none', 'completed', 'completed', 'completed', 'none', 'none', 'none', 'none', 'none', 'none', 'none', 'none', 'none', 'none', 'none', 'completed', 'none', 'completed', 'completed', 'completed', 'completed', 'completed', 'completed', 'completed', 'completed', 'completed', 'completed', 'none', 'none', 'completed', 'none', 'none', 'none', 'none', 'completed', 'none', 'none', 'none', 'none', 'completed', 'none', 'completed', 'completed', 'none', 'none', 'none', 'none', 'none', 'none', 'completed', 'none', 'completed', 'completed', 'none', 'none', 'completed', 'none', 'completed', 'completed', 'completed', 'completed', 'none', 'none', 'none', 'none', 'none', 'none', 'none', 'none', 'none', 'completed', 'none', 'none', 'none', 'none', 'none', 'none', 'none', 'completed', 'none', 'none', 'none', 'none', 'none', 'completed', 'completed', 'none', 'none', 'none', 'none', 'completed', 'none', 'none', 'none', 'none', 'completed', 'none', 'completed', 'completed', 'completed', 'none', 'none', 'completed', 'completed', 'none', 'none', 'none', 'none', 'none', 'none', 'none', 'none', 'none', 'none', 'none', 'none', 'completed', 'completed', 'none', 'completed', 'none', 'none', 'completed', 'completed', 'completed', 'none', 'completed', 'none', 'none', 'none', 'none', 'completed', 'completed', 'none', 'none', 'completed', 'none', 'none', 'completed', 'completed', 'none', 'none', 'none', 'none', 'none', 'completed', 'completed', 'completed', 'completed', 'none', 'none', 'none', 'none', 'none', 'completed', 'none', 'completed', 'none', 'completed', 'none', 'none', 'none', 'none', 'none', 'none', 'completed', 'none', 'completed', 'none', 'completed', 'none', 'none', 'completed', 'none', 'none', 'completed', 'none', 'none', 'none', 'none', 'completed', 'none', 'none', 'none', 'completed', 'none', 'completed', 'none', 'none', 'none', 'completed', 'none', 'completed', 'completed', 'none', 'none', 'none', 'completed', 'none', 'completed', 'completed', 'none', 'completed', 'completed', 'completed', 'none', 'none', 'completed', 'completed', 'completed', 'none', 'completed', 'none', 'completed', 'none', 'completed', 'none', 'none', 'none', 'none', 'completed', 'none', 'completed', 'completed', 'none', 'completed', 'none', 'completed', 'none', 'completed', 'completed', 'none', 'none']\n"
     ]
    }
   ],
   "source": [
    "potions = []\n",
    "f = open('StudentsPerformance.csv')\n",
    "for line in f:\n",
    "    info = line.split(',')\n",
    "    if info[0] == 'gender' or info[0] == 'female':\n",
    "        continue\n",
    "    else:\n",
    "        mark = info[4]\n",
    "        potions.append(mark) \n",
    "\n",
    "avg = potions.count('completed')\n",
    "print(avg)\n",
    "print(potions)\n"
   ]
  },
  {
   "cell_type": "code",
   "execution_count": null,
   "id": "b3d303df-b824-45cb-9622-dc123dc2539b",
   "metadata": {},
   "outputs": [],
   "source": []
  }
 ],
 "metadata": {
  "kernelspec": {
   "display_name": "Python 3 (ipykernel)",
   "language": "python",
   "name": "python3"
  },
  "language_info": {
   "codemirror_mode": {
    "name": "ipython",
    "version": 3
   },
   "file_extension": ".py",
   "mimetype": "text/x-python",
   "name": "python",
   "nbconvert_exporter": "python",
   "pygments_lexer": "ipython3",
   "version": "3.11.1"
  }
 },
 "nbformat": 4,
 "nbformat_minor": 5
}
